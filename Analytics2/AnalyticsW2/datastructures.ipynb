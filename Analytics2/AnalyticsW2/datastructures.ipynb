{
 "cells": [
  {
   "cell_type": "markdown",
   "metadata": {},
   "source": [
    "List comprehension concept is a way to create lists"
   ]
  },
  {
   "cell_type": "code",
   "execution_count": 9,
   "metadata": {},
   "outputs": [
    {
     "data": {
      "text/plain": [
       "[0, 1, 4, 9, 16, 25, 36, 49, 64, 81, 100]"
      ]
     },
     "execution_count": 9,
     "metadata": {},
     "output_type": "execute_result"
    }
   ],
   "source": [
    "squares = [] #initialization\n",
    "for x in range(11):  #loop 0 to 10\n",
    "    squares.append(x**2)  #\n",
    "squares"
   ]
  },
  {
   "cell_type": "code",
   "execution_count": 17,
   "metadata": {},
   "outputs": [
    {
     "name": "stdout",
     "output_type": "stream",
     "text": [
      "[31, 22, 24, 50, 21, 29]\n"
     ]
    }
   ],
   "source": [
    "ages = [5, 6, 31, 22, 14, 17, 24, 12, 50, 17, 21, 29]\n",
    "\n",
    "adults = []\n",
    "\n",
    "for age in ages:\n",
    "    if age >= 18:\n",
    "        adults.append(age)\n",
    "\n",
    "print(adults)"
   ]
  },
  {
   "cell_type": "code",
   "execution_count": 15,
   "metadata": {},
   "outputs": [
    {
     "name": "stdout",
     "output_type": "stream",
     "text": [
      "['DATA', 'ANALYTICS', 'PYTHON']\n"
     ]
    }
   ],
   "source": [
    "words = [\"data\", \"analytics\", \"python\"]\n",
    "uppercase_words = [case.upper() for case in words]\n",
    "print(uppercase_words)"
   ]
  }
 ],
 "metadata": {
  "kernelspec": {
   "display_name": "base",
   "language": "python",
   "name": "python3"
  },
  "language_info": {
   "codemirror_mode": {
    "name": "ipython",
    "version": 3
   },
   "file_extension": ".py",
   "mimetype": "text/x-python",
   "name": "python",
   "nbconvert_exporter": "python",
   "pygments_lexer": "ipython3",
   "version": "3.9.13"
  }
 },
 "nbformat": 4,
 "nbformat_minor": 2
}
