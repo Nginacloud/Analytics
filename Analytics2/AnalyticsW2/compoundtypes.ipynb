{
 "cells": [
  {
   "cell_type": "markdown",
   "metadata": {},
   "source": [
    "datastructure that can hold multiple items, of different types; lists, dictionaries, sets and tuples"
   ]
  },
  {
   "cell_type": "code",
   "execution_count": 7,
   "metadata": {},
   "outputs": [
    {
     "name": "stdout",
     "output_type": "stream",
     "text": [
      "John\n",
      "Smith\n"
     ]
    }
   ],
   "source": [
    "#list\n",
    "mylist = ['John', 'Smith']\n",
    "for list in mylist:\n",
    "    print(list)"
   ]
  },
  {
   "cell_type": "code",
   "execution_count": 9,
   "metadata": {},
   "outputs": [
    {
     "name": "stdout",
     "output_type": "stream",
     "text": [
      "Alice 80\n",
      "Bobby 71\n",
      "Charlie 93\n",
      "David 88\n"
     ]
    }
   ],
   "source": [
    "#dictionary\n",
    "student_scores = {'Alice': 80, 'Bobby': 71, 'Charlie': 93, 'David': 88}\n",
    "for student, score in student_scores.items():\n",
    "    print(f\"{student} {score}\")"
   ]
  },
  {
   "cell_type": "code",
   "execution_count": 16,
   "metadata": {},
   "outputs": [
    {
     "name": "stdout",
     "output_type": "stream",
     "text": [
      "{90, 20, 60}\n"
     ]
    }
   ],
   "source": [
    "#set; unique elements\n",
    "list1 = [10, 20, 40, 60, 90, 90]\n",
    "list2 = [60, 20, 30, 70, 80, 90]\n",
    "\n",
    "common_elements = []\n",
    "for element in list1:\n",
    "    if element in list2:\n",
    "        common_elements.append(element)\n",
    "\n",
    "common_elements = set(common_elements)\n",
    "\n",
    "print(common_elements)"
   ]
  }
 ],
 "metadata": {
  "kernelspec": {
   "display_name": "base",
   "language": "python",
   "name": "python3"
  },
  "language_info": {
   "codemirror_mode": {
    "name": "ipython",
    "version": 3
   },
   "file_extension": ".py",
   "mimetype": "text/x-python",
   "name": "python",
   "nbconvert_exporter": "python",
   "pygments_lexer": "ipython3",
   "version": "3.9.13"
  }
 },
 "nbformat": 4,
 "nbformat_minor": 2
}
