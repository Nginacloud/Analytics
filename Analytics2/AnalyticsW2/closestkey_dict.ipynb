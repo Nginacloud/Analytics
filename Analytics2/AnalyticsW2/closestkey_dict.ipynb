{
 "cells": [
  {
   "cell_type": "code",
   "execution_count": 2,
   "metadata": {},
   "outputs": [
    {
     "name": "stdout",
     "output_type": "stream",
     "text": [
      "The original disctionary: {13: 'Hi', 15: 'Hello', 16: 'Gfg'}\n",
      "The value to the closest key: Gfg\n"
     ]
    }
   ],
   "source": [
    "test_dict = {13 : 'Hi', 15:'Hello', 16 : 'Gfg'}\n",
    "search_key = 15.6\n",
    "\n",
    "print(\"The original disctionary: \" +str(test_dict))\n",
    "\n",
    "res = test_dict.get(search_key) or test_dict[min(test_dict.keys(), key = lambda key: abs(key-search_key))]\n",
    "print(\"The value to the closest key: \" +str(res))"
   ]
  },
  {
   "cell_type": "markdown",
   "metadata": {},
   "source": [
    "closest key for data cleaning"
   ]
  },
  {
   "cell_type": "code",
   "execution_count": 5,
   "metadata": {},
   "outputs": [
    {
     "name": "stdout",
     "output_type": "stream",
     "text": [
      "14: Low\n",
      "16.5: High\n",
      "20: High\n"
     ]
    }
   ],
   "source": [
    "#import pandas as pd\n",
    "#df = pd.read_csv('file location')\n",
    "#print(df)\n",
    "data_dict = {13: 'Low', 15: 'Medium', 16: 'High'}\n",
    "search_key = [14, 16.5, 20]\n",
    "\n",
    "def get_closest_value(data_dict, search_key):\n",
    "    return data_dict.get(search_key) or data_dict[min(data_dict.keys(), key=lambda k: abs(k - search_key))]\n",
    "\n",
    "for key in search_key:\n",
    "    closest_value = get_closest_value(data_dict, key)\n",
    "    print(f\"{key}: {closest_value}\")"
   ]
  }
 ],
 "metadata": {
  "kernelspec": {
   "display_name": "base",
   "language": "python",
   "name": "python3"
  },
  "language_info": {
   "codemirror_mode": {
    "name": "ipython",
    "version": 3
   },
   "file_extension": ".py",
   "mimetype": "text/x-python",
   "name": "python",
   "nbconvert_exporter": "python",
   "pygments_lexer": "ipython3",
   "version": "3.9.13"
  }
 },
 "nbformat": 4,
 "nbformat_minor": 2
}
