{
 "cells": [
  {
   "cell_type": "markdown",
   "metadata": {},
   "source": [
    "autogeneration bigrams"
   ]
  },
  {
   "cell_type": "code",
   "execution_count": 2,
   "metadata": {},
   "outputs": [
    {
     "name": "stdout",
     "output_type": "stream",
     "text": [
      "Suggestions for 'data': ['analysis', 'science']\n"
     ]
    }
   ],
   "source": [
    "from collections import defaultdict, Counter\n",
    "\n",
    "def generate_bigrams(text):\n",
    "    \n",
    "    words = text.split()\n",
    "    bigrams = [(words[i], words[i + 1]) for i in range(len(words) - 1)]\n",
    "    return bigrams\n",
    "\n",
    "def build_bigram_model(corpus):\n",
    "    \n",
    "    bigram_model = defaultdict(Counter)\n",
    "    \n",
    "    # Generate bigrams\n",
    "    for sentence in corpus:\n",
    "        bigrams = generate_bigrams(sentence)\n",
    "        \n",
    "        # Count frequency of each bigram\n",
    "        for (w1, w2) in bigrams:\n",
    "            bigram_model[w1][w2] += 1\n",
    "            \n",
    "    return bigram_model\n",
    "\n",
    "def autocomplete(bigram_model, word):\n",
    "    #Suggests the most likely next words based on the bigram model.\n",
    "    if word in bigram_model:\n",
    "        \n",
    "        next_words = bigram_model[word].most_common()\n",
    "        return [w for w, _ in next_words]\n",
    "    else:\n",
    "        return []\n",
    "\n",
    "\n",
    "corpus = [\n",
    "    \"I love data analysis\",\n",
    "    \"I love machine learning\",\n",
    "    \"Data science is fun\",\n",
    "    \"Machine learning and data science\",\n",
    "    \"Learning data analysis is important\",\n",
    "    \"Data science includes data analysis\"\n",
    "]\n",
    "\n",
    "# Build the bigram model\n",
    "bigram_model = build_bigram_model(corpus)\n",
    "\n",
    "# Test autocomplete function\n",
    "word = \"data\"\n",
    "suggestions = autocomplete(bigram_model, word)\n",
    "\n",
    "print(f\"Suggestions for '{word}': {suggestions}\")  # Output: Suggestions for 'data': ['analysis', 'science']\n"
   ]
  }
 ],
 "metadata": {
  "kernelspec": {
   "display_name": "base",
   "language": "python",
   "name": "python3"
  },
  "language_info": {
   "codemirror_mode": {
    "name": "ipython",
    "version": 3
   },
   "file_extension": ".py",
   "mimetype": "text/x-python",
   "name": "python",
   "nbconvert_exporter": "python",
   "pygments_lexer": "ipython3",
   "version": "3.9.13"
  }
 },
 "nbformat": 4,
 "nbformat_minor": 2
}
