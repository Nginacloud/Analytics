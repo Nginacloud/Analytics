{
 "cells": [
  {
   "cell_type": "markdown",
   "metadata": {},
   "source": [
    "a python function that takes a string as input and returns a pair of consecutive characters from the string"
   ]
  },
  {
   "cell_type": "code",
   "execution_count": 2,
   "metadata": {},
   "outputs": [
    {
     "name": "stdout",
     "output_type": "stream",
     "text": [
      "[('M', 'y'), ('y', ' '), (' ', 'a'), ('a', 'n'), ('n', 'a'), ('a', 'l'), ('l', 'y'), ('y', 't'), ('t', 'i'), ('i', 'c'), ('c', 's'), ('s', ' '), (' ', 'j'), ('j', 'o'), ('o', 'u'), ('u', 'r'), ('r', 'n'), ('n', 'e'), ('e', 'y')]\n"
     ]
    }
   ],
   "source": [
    "def biagrams(s):\n",
    "    return[(s[i], s[i+1]) for i in range(len(s) -1)]\n",
    "\n",
    "string = \"My analytics journey\"\n",
    "print(biagrams(string))"
   ]
  },
  {
   "cell_type": "code",
   "execution_count": 3,
   "metadata": {},
   "outputs": [
    {
     "name": "stdout",
     "output_type": "stream",
     "text": [
      "The original list: ['My analytics career', 'I love it']\n",
      "the formed bigrams: [('My', 'analytics'), ('analytics', 'career'), ('I', 'love'), ('love', 'it')]\n"
     ]
    }
   ],
   "source": [
    "test_list = ['My analytics career', 'I love it']\n",
    "\n",
    "print(\"The original list: \" +str(test_list))\n",
    "\n",
    "res = [(x, i.split()[j+1]) for i in test_list\n",
    "       for j, x in enumerate(i.split()) if j < len(i.split()) - 1]\n",
    "print(\"the formed bigrams: \" +str(res))"
   ]
  },
  {
   "cell_type": "markdown",
   "metadata": {},
   "source": [
    "sentiment analysis"
   ]
  },
  {
   "cell_type": "code",
   "execution_count": 9,
   "metadata": {},
   "outputs": [
    {
     "name": "stdout",
     "output_type": "stream",
     "text": [
      "Positive bigrams count: 1\n",
      "Negative bigrams count: 2\n"
     ]
    }
   ],
   "source": [
    "def generate_bigrams(text):\n",
    "    \n",
    "    words = text.split()  # Split the text into words\n",
    "    bigrams = [(words[i], words[i + 1]) for i in range(len(words) - 1)]  # Create bigrams\n",
    "    return bigrams\n",
    "positive_bigrams = [(\"love\", \"data\"), (\"learning\", \"analysis\")]\n",
    "negative_bigrams = [(\"not\", \"good\"), (\"data\", \"breach\")]\n",
    "\n",
    "sentence = \"I love data analysis, data breach is not good\"\n",
    "\n",
    "sentence_bigrams = generate_bigrams(sentence)\n",
    "\n",
    "positive_count = sum(1 for bigram in sentence_bigrams if bigram in positive_bigrams)\n",
    "negative_count = sum(1 for bigram in sentence_bigrams if bigram in negative_bigrams)\n",
    "print(\"Positive bigrams count:\", positive_count)  \n",
    "print(\"Negative bigrams count:\", negative_count)"
   ]
  }
 ],
 "metadata": {
  "kernelspec": {
   "display_name": "base",
   "language": "python",
   "name": "python3"
  },
  "language_info": {
   "codemirror_mode": {
    "name": "ipython",
    "version": 3
   },
   "file_extension": ".py",
   "mimetype": "text/x-python",
   "name": "python",
   "nbconvert_exporter": "python",
   "pygments_lexer": "ipython3",
   "version": "3.9.13"
  }
 },
 "nbformat": 4,
 "nbformat_minor": 2
}
